{
  "nbformat": 4,
  "nbformat_minor": 0,
  "metadata": {
    "colab": {
      "name": "Bitcoin_RNN-LSTM.ipynb",
      "provenance": [],
      "collapsed_sections": [],
      "mount_file_id": "16bkB5pVIxeGL8SqWVY5hQ-YES6tju_Mp",
      "authorship_tag": "ABX9TyOvkqzAKLMOWDwANS21ZmuH",
      "include_colab_link": true
    },
    "kernelspec": {
      "name": "python3",
      "display_name": "Python 3"
    },
    "accelerator": "GPU"
  },
  "cells": [
    {
      "cell_type": "markdown",
      "metadata": {
        "id": "view-in-github",
        "colab_type": "text"
      },
      "source": [
        "<a href=\"https://colab.research.google.com/github/anik-ghosh-au7/Projects/blob/master/Bitcoin_RNN_LSTM.ipynb\" target=\"_parent\"><img src=\"https://colab.research.google.com/assets/colab-badge.svg\" alt=\"Open In Colab\"/></a>"
      ]
    },
    {
      "cell_type": "code",
      "metadata": {
        "id": "kt5jfqe89Rko",
        "colab_type": "code",
        "colab": {}
      },
      "source": [
        "from __future__ import absolute_import, division, print_function, unicode_literals"
      ],
      "execution_count": 0,
      "outputs": []
    },
    {
      "cell_type": "code",
      "metadata": {
        "id": "C8VVuwgL5Hok",
        "colab_type": "code",
        "outputId": "36912859-b61f-4b1e-92ed-62743e68d2f9",
        "colab": {
          "base_uri": "https://localhost:8080/",
          "height": 34
        }
      },
      "source": [
        "try:\n",
        "  %tensorflow_version 2.x\n",
        "except Exception:\n",
        "  pass"
      ],
      "execution_count": 0,
      "outputs": [
        {
          "output_type": "stream",
          "text": [
            "TensorFlow 2.x selected.\n"
          ],
          "name": "stdout"
        }
      ]
    },
    {
      "cell_type": "code",
      "metadata": {
        "id": "YskesPel5W0k",
        "colab_type": "code",
        "colab": {}
      },
      "source": [
        "import numpy as np\n",
        "import pandas as pd\n",
        "import matplotlib.pyplot as plt\n",
        "from sklearn.preprocessing import StandardScaler, MinMaxScaler"
      ],
      "execution_count": 0,
      "outputs": []
    },
    {
      "cell_type": "code",
      "metadata": {
        "id": "hzVGkTPp60Qk",
        "colab_type": "code",
        "outputId": "4da1318b-de43-431c-8016-5f52e8953f73",
        "colab": {
          "base_uri": "https://localhost:8080/",
          "height": 204
        }
      },
      "source": [
        "data = pd.read_csv(\"/content/drive/My Drive/Colab Notebooks/BTC-USD.csv\", date_parser=True)\n",
        "data.head()"
      ],
      "execution_count": 0,
      "outputs": [
        {
          "output_type": "execute_result",
          "data": {
            "text/html": [
              "<div>\n",
              "<style scoped>\n",
              "    .dataframe tbody tr th:only-of-type {\n",
              "        vertical-align: middle;\n",
              "    }\n",
              "\n",
              "    .dataframe tbody tr th {\n",
              "        vertical-align: top;\n",
              "    }\n",
              "\n",
              "    .dataframe thead th {\n",
              "        text-align: right;\n",
              "    }\n",
              "</style>\n",
              "<table border=\"1\" class=\"dataframe\">\n",
              "  <thead>\n",
              "    <tr style=\"text-align: right;\">\n",
              "      <th></th>\n",
              "      <th>Date</th>\n",
              "      <th>Close</th>\n",
              "    </tr>\n",
              "  </thead>\n",
              "  <tbody>\n",
              "    <tr>\n",
              "      <th>0</th>\n",
              "      <td>2017-01-01</td>\n",
              "      <td>998.325012</td>\n",
              "    </tr>\n",
              "    <tr>\n",
              "      <th>1</th>\n",
              "      <td>2017-01-02</td>\n",
              "      <td>1021.750000</td>\n",
              "    </tr>\n",
              "    <tr>\n",
              "      <th>2</th>\n",
              "      <td>2017-01-03</td>\n",
              "      <td>1043.839966</td>\n",
              "    </tr>\n",
              "    <tr>\n",
              "      <th>3</th>\n",
              "      <td>2017-01-04</td>\n",
              "      <td>1154.729980</td>\n",
              "    </tr>\n",
              "    <tr>\n",
              "      <th>4</th>\n",
              "      <td>2017-01-05</td>\n",
              "      <td>1013.380005</td>\n",
              "    </tr>\n",
              "  </tbody>\n",
              "</table>\n",
              "</div>"
            ],
            "text/plain": [
              "         Date        Close\n",
              "0  2017-01-01   998.325012\n",
              "1  2017-01-02  1021.750000\n",
              "2  2017-01-03  1043.839966\n",
              "3  2017-01-04  1154.729980\n",
              "4  2017-01-05  1013.380005"
            ]
          },
          "metadata": {
            "tags": []
          },
          "execution_count": 4
        }
      ]
    },
    {
      "cell_type": "code",
      "metadata": {
        "id": "fyklAqnZ7g5r",
        "colab_type": "code",
        "outputId": "bdde58cc-108a-4d68-dd4d-fb2753f9a8b9",
        "colab": {
          "base_uri": "https://localhost:8080/",
          "height": 204
        }
      },
      "source": [
        "data.tail()"
      ],
      "execution_count": 0,
      "outputs": [
        {
          "output_type": "execute_result",
          "data": {
            "text/html": [
              "<div>\n",
              "<style scoped>\n",
              "    .dataframe tbody tr th:only-of-type {\n",
              "        vertical-align: middle;\n",
              "    }\n",
              "\n",
              "    .dataframe tbody tr th {\n",
              "        vertical-align: top;\n",
              "    }\n",
              "\n",
              "    .dataframe thead th {\n",
              "        text-align: right;\n",
              "    }\n",
              "</style>\n",
              "<table border=\"1\" class=\"dataframe\">\n",
              "  <thead>\n",
              "    <tr style=\"text-align: right;\">\n",
              "      <th></th>\n",
              "      <th>Date</th>\n",
              "      <th>Close</th>\n",
              "    </tr>\n",
              "  </thead>\n",
              "  <tbody>\n",
              "    <tr>\n",
              "      <th>1170</th>\n",
              "      <td>2020-03-16</td>\n",
              "      <td>5014.479980</td>\n",
              "    </tr>\n",
              "    <tr>\n",
              "      <th>1171</th>\n",
              "      <td>2020-03-17</td>\n",
              "      <td>5225.629395</td>\n",
              "    </tr>\n",
              "    <tr>\n",
              "      <th>1172</th>\n",
              "      <td>2020-03-18</td>\n",
              "      <td>5238.438477</td>\n",
              "    </tr>\n",
              "    <tr>\n",
              "      <th>1173</th>\n",
              "      <td>2020-03-19</td>\n",
              "      <td>6191.192871</td>\n",
              "    </tr>\n",
              "    <tr>\n",
              "      <th>1174</th>\n",
              "      <td>2020-03-20</td>\n",
              "      <td>6560.907227</td>\n",
              "    </tr>\n",
              "  </tbody>\n",
              "</table>\n",
              "</div>"
            ],
            "text/plain": [
              "            Date        Close\n",
              "1170  2020-03-16  5014.479980\n",
              "1171  2020-03-17  5225.629395\n",
              "1172  2020-03-18  5238.438477\n",
              "1173  2020-03-19  6191.192871\n",
              "1174  2020-03-20  6560.907227"
            ]
          },
          "metadata": {
            "tags": []
          },
          "execution_count": 5
        }
      ]
    },
    {
      "cell_type": "code",
      "metadata": {
        "id": "EOkoOIav7yfh",
        "colab_type": "code",
        "outputId": "4e0a7e57-ca87-48d7-cce8-f49621551835",
        "colab": {
          "base_uri": "https://localhost:8080/",
          "height": 204
        }
      },
      "source": [
        "data_training = data[data['Date'] <= '2019-12-31'].copy()\n",
        "data_training.tail()"
      ],
      "execution_count": 0,
      "outputs": [
        {
          "output_type": "execute_result",
          "data": {
            "text/html": [
              "<div>\n",
              "<style scoped>\n",
              "    .dataframe tbody tr th:only-of-type {\n",
              "        vertical-align: middle;\n",
              "    }\n",
              "\n",
              "    .dataframe tbody tr th {\n",
              "        vertical-align: top;\n",
              "    }\n",
              "\n",
              "    .dataframe thead th {\n",
              "        text-align: right;\n",
              "    }\n",
              "</style>\n",
              "<table border=\"1\" class=\"dataframe\">\n",
              "  <thead>\n",
              "    <tr style=\"text-align: right;\">\n",
              "      <th></th>\n",
              "      <th>Date</th>\n",
              "      <th>Close</th>\n",
              "    </tr>\n",
              "  </thead>\n",
              "  <tbody>\n",
              "    <tr>\n",
              "      <th>1090</th>\n",
              "      <td>2019-12-27</td>\n",
              "      <td>7290.088379</td>\n",
              "    </tr>\n",
              "    <tr>\n",
              "      <th>1091</th>\n",
              "      <td>2019-12-28</td>\n",
              "      <td>7317.990234</td>\n",
              "    </tr>\n",
              "    <tr>\n",
              "      <th>1092</th>\n",
              "      <td>2019-12-29</td>\n",
              "      <td>7422.652832</td>\n",
              "    </tr>\n",
              "    <tr>\n",
              "      <th>1093</th>\n",
              "      <td>2019-12-30</td>\n",
              "      <td>7292.995117</td>\n",
              "    </tr>\n",
              "    <tr>\n",
              "      <th>1094</th>\n",
              "      <td>2019-12-31</td>\n",
              "      <td>7193.599121</td>\n",
              "    </tr>\n",
              "  </tbody>\n",
              "</table>\n",
              "</div>"
            ],
            "text/plain": [
              "            Date        Close\n",
              "1090  2019-12-27  7290.088379\n",
              "1091  2019-12-28  7317.990234\n",
              "1092  2019-12-29  7422.652832\n",
              "1093  2019-12-30  7292.995117\n",
              "1094  2019-12-31  7193.599121"
            ]
          },
          "metadata": {
            "tags": []
          },
          "execution_count": 6
        }
      ]
    },
    {
      "cell_type": "code",
      "metadata": {
        "id": "WNv18ywn8gZ0",
        "colab_type": "code",
        "outputId": "60320219-4e2b-4f52-8461-6e285111d1a1",
        "colab": {
          "base_uri": "https://localhost:8080/",
          "height": 204
        }
      },
      "source": [
        "data_testing = data[data['Date'] > '2019-12-31'].copy()\n",
        "data_testing.head()"
      ],
      "execution_count": 0,
      "outputs": [
        {
          "output_type": "execute_result",
          "data": {
            "text/html": [
              "<div>\n",
              "<style scoped>\n",
              "    .dataframe tbody tr th:only-of-type {\n",
              "        vertical-align: middle;\n",
              "    }\n",
              "\n",
              "    .dataframe tbody tr th {\n",
              "        vertical-align: top;\n",
              "    }\n",
              "\n",
              "    .dataframe thead th {\n",
              "        text-align: right;\n",
              "    }\n",
              "</style>\n",
              "<table border=\"1\" class=\"dataframe\">\n",
              "  <thead>\n",
              "    <tr style=\"text-align: right;\">\n",
              "      <th></th>\n",
              "      <th>Date</th>\n",
              "      <th>Close</th>\n",
              "    </tr>\n",
              "  </thead>\n",
              "  <tbody>\n",
              "    <tr>\n",
              "      <th>1095</th>\n",
              "      <td>2020-01-01</td>\n",
              "      <td>7200.174316</td>\n",
              "    </tr>\n",
              "    <tr>\n",
              "      <th>1096</th>\n",
              "      <td>2020-01-02</td>\n",
              "      <td>6985.470215</td>\n",
              "    </tr>\n",
              "    <tr>\n",
              "      <th>1097</th>\n",
              "      <td>2020-01-03</td>\n",
              "      <td>7344.884277</td>\n",
              "    </tr>\n",
              "    <tr>\n",
              "      <th>1098</th>\n",
              "      <td>2020-01-04</td>\n",
              "      <td>7410.656738</td>\n",
              "    </tr>\n",
              "    <tr>\n",
              "      <th>1099</th>\n",
              "      <td>2020-01-05</td>\n",
              "      <td>7411.317383</td>\n",
              "    </tr>\n",
              "  </tbody>\n",
              "</table>\n",
              "</div>"
            ],
            "text/plain": [
              "            Date        Close\n",
              "1095  2020-01-01  7200.174316\n",
              "1096  2020-01-02  6985.470215\n",
              "1097  2020-01-03  7344.884277\n",
              "1098  2020-01-04  7410.656738\n",
              "1099  2020-01-05  7411.317383"
            ]
          },
          "metadata": {
            "tags": []
          },
          "execution_count": 7
        }
      ]
    },
    {
      "cell_type": "code",
      "metadata": {
        "id": "RcWurvKW9x70",
        "colab_type": "code",
        "outputId": "dc8957d0-b46b-44e3-ffdf-c60ce7037abb",
        "colab": {
          "base_uri": "https://localhost:8080/",
          "height": 204
        }
      },
      "source": [
        "training_data = data_training.drop(['Date'], axis=1)\n",
        "training_data.head()"
      ],
      "execution_count": 0,
      "outputs": [
        {
          "output_type": "execute_result",
          "data": {
            "text/html": [
              "<div>\n",
              "<style scoped>\n",
              "    .dataframe tbody tr th:only-of-type {\n",
              "        vertical-align: middle;\n",
              "    }\n",
              "\n",
              "    .dataframe tbody tr th {\n",
              "        vertical-align: top;\n",
              "    }\n",
              "\n",
              "    .dataframe thead th {\n",
              "        text-align: right;\n",
              "    }\n",
              "</style>\n",
              "<table border=\"1\" class=\"dataframe\">\n",
              "  <thead>\n",
              "    <tr style=\"text-align: right;\">\n",
              "      <th></th>\n",
              "      <th>Close</th>\n",
              "    </tr>\n",
              "  </thead>\n",
              "  <tbody>\n",
              "    <tr>\n",
              "      <th>0</th>\n",
              "      <td>998.325012</td>\n",
              "    </tr>\n",
              "    <tr>\n",
              "      <th>1</th>\n",
              "      <td>1021.750000</td>\n",
              "    </tr>\n",
              "    <tr>\n",
              "      <th>2</th>\n",
              "      <td>1043.839966</td>\n",
              "    </tr>\n",
              "    <tr>\n",
              "      <th>3</th>\n",
              "      <td>1154.729980</td>\n",
              "    </tr>\n",
              "    <tr>\n",
              "      <th>4</th>\n",
              "      <td>1013.380005</td>\n",
              "    </tr>\n",
              "  </tbody>\n",
              "</table>\n",
              "</div>"
            ],
            "text/plain": [
              "         Close\n",
              "0   998.325012\n",
              "1  1021.750000\n",
              "2  1043.839966\n",
              "3  1154.729980\n",
              "4  1013.380005"
            ]
          },
          "metadata": {
            "tags": []
          },
          "execution_count": 8
        }
      ]
    },
    {
      "cell_type": "code",
      "metadata": {
        "id": "b0Umx_Qt-GiQ",
        "colab_type": "code",
        "outputId": "8d3a1965-2e97-4aa2-970c-6ae8088888cb",
        "colab": {
          "base_uri": "https://localhost:8080/",
          "height": 136
        }
      },
      "source": [
        "scaler = MinMaxScaler()\n",
        "training_data = scaler.fit_transform(training_data)\n",
        "training_data"
      ],
      "execution_count": 0,
      "outputs": [
        {
          "output_type": "execute_result",
          "data": {
            "text/plain": [
              "array([[0.0117827 ],\n",
              "       [0.01303406],\n",
              "       [0.0142141 ],\n",
              "       ...,\n",
              "       [0.35496915],\n",
              "       [0.34804285],\n",
              "       [0.34273314]])"
            ]
          },
          "metadata": {
            "tags": []
          },
          "execution_count": 9
        }
      ]
    },
    {
      "cell_type": "code",
      "metadata": {
        "id": "LsVIb7zNBQ96",
        "colab_type": "code",
        "outputId": "f1f003af-aee9-4f3f-f7b6-d662a7294528",
        "colab": {
          "base_uri": "https://localhost:8080/",
          "height": 34
        }
      },
      "source": [
        "X_train = []\n",
        "Y_train = []\n",
        "training_data.shape"
      ],
      "execution_count": 0,
      "outputs": [
        {
          "output_type": "execute_result",
          "data": {
            "text/plain": [
              "(1095, 1)"
            ]
          },
          "metadata": {
            "tags": []
          },
          "execution_count": 10
        }
      ]
    },
    {
      "cell_type": "code",
      "metadata": {
        "id": "LDTfAU6bBh2Z",
        "colab_type": "code",
        "colab": {}
      },
      "source": [
        "for i in range(30, training_data.shape[0]):\n",
        "  X_train.append(training_data[i-30:i])\n",
        "  Y_train.append(training_data[i, 0])"
      ],
      "execution_count": 0,
      "outputs": []
    },
    {
      "cell_type": "code",
      "metadata": {
        "id": "mRXsnembD2lB",
        "colab_type": "code",
        "outputId": "8ec3d11b-d11c-4ce7-8593-841c2c31d013",
        "colab": {
          "base_uri": "https://localhost:8080/",
          "height": 51
        }
      },
      "source": [
        "X_train, Y_train = np.array(X_train), np.array(Y_train)\n",
        "Y_train"
      ],
      "execution_count": 0,
      "outputs": [
        {
          "output_type": "execute_result",
          "data": {
            "text/plain": [
              "array([0.01029111, 0.01128579, 0.01250253, ..., 0.35496915, 0.34804285,\n",
              "       0.34273314])"
            ]
          },
          "metadata": {
            "tags": []
          },
          "execution_count": 12
        }
      ]
    },
    {
      "cell_type": "code",
      "metadata": {
        "id": "6A4SUbKO8KY2",
        "colab_type": "code",
        "outputId": "dca33e1e-ae46-4d2f-e1f2-365f28bfebf9",
        "colab": {
          "base_uri": "https://localhost:8080/",
          "height": 34
        }
      },
      "source": [
        "X_train.shape"
      ],
      "execution_count": 0,
      "outputs": [
        {
          "output_type": "execute_result",
          "data": {
            "text/plain": [
              "(1065, 30, 1)"
            ]
          },
          "metadata": {
            "tags": []
          },
          "execution_count": 13
        }
      ]
    },
    {
      "cell_type": "code",
      "metadata": {
        "id": "c5B0_i9JEwXu",
        "colab_type": "code",
        "colab": {}
      },
      "source": [
        "from tensorflow.keras import Sequential\n",
        "from tensorflow.keras.layers import Dense, LSTM, Dropout"
      ],
      "execution_count": 0,
      "outputs": []
    },
    {
      "cell_type": "code",
      "metadata": {
        "id": "HvgsHN7KFF-I",
        "colab_type": "code",
        "colab": {}
      },
      "source": [
        "regressior = Sequential()\n",
        "regressior.add(LSTM(units=60, activation='relu', return_sequences=True, input_shape=(X_train.shape[1], 1)))\n",
        "regressior.add(Dropout(0.2))\n",
        "regressior.add(LSTM(units=60, activation='relu', return_sequences=True))\n",
        "regressior.add(Dropout(0.2))\n",
        "regressior.add(LSTM(units=80, activation='relu', return_sequences=True))\n",
        "regressior.add(Dropout(0.2))\n",
        "regressior.add(LSTM(units=120, activation='relu'))\n",
        "regressior.add(Dropout(0.2))\n",
        "regressior.add(Dense(units=1))"
      ],
      "execution_count": 0,
      "outputs": []
    },
    {
      "cell_type": "code",
      "metadata": {
        "id": "UZKtUCDw8_DG",
        "colab_type": "code",
        "outputId": "c5deb425-d732-4907-abf4-bdedb1cc50d4",
        "colab": {
          "base_uri": "https://localhost:8080/",
          "height": 459
        }
      },
      "source": [
        "regressior.summary()"
      ],
      "execution_count": 0,
      "outputs": [
        {
          "output_type": "stream",
          "text": [
            "Model: \"sequential\"\n",
            "_________________________________________________________________\n",
            "Layer (type)                 Output Shape              Param #   \n",
            "=================================================================\n",
            "lstm (LSTM)                  (None, 30, 60)            14880     \n",
            "_________________________________________________________________\n",
            "dropout (Dropout)            (None, 30, 60)            0         \n",
            "_________________________________________________________________\n",
            "lstm_1 (LSTM)                (None, 30, 60)            29040     \n",
            "_________________________________________________________________\n",
            "dropout_1 (Dropout)          (None, 30, 60)            0         \n",
            "_________________________________________________________________\n",
            "lstm_2 (LSTM)                (None, 30, 80)            45120     \n",
            "_________________________________________________________________\n",
            "dropout_2 (Dropout)          (None, 30, 80)            0         \n",
            "_________________________________________________________________\n",
            "lstm_3 (LSTM)                (None, 120)               96480     \n",
            "_________________________________________________________________\n",
            "dropout_3 (Dropout)          (None, 120)               0         \n",
            "_________________________________________________________________\n",
            "dense (Dense)                (None, 1)                 121       \n",
            "=================================================================\n",
            "Total params: 185,641\n",
            "Trainable params: 185,641\n",
            "Non-trainable params: 0\n",
            "_________________________________________________________________\n"
          ],
          "name": "stdout"
        }
      ]
    },
    {
      "cell_type": "code",
      "metadata": {
        "id": "ZnJbrbjk9gfR",
        "colab_type": "code",
        "colab": {}
      },
      "source": [
        "regressior.compile(optimizer='adam', loss='mean_squared_error')"
      ],
      "execution_count": 0,
      "outputs": []
    },
    {
      "cell_type": "code",
      "metadata": {
        "id": "OqSlqIH59wwe",
        "colab_type": "code",
        "outputId": "e7d6e343-dd3c-46de-b1f9-2dc50e92db61",
        "colab": {
          "base_uri": "https://localhost:8080/",
          "height": 731
        }
      },
      "source": [
        "regressior.fit(X_train, Y_train, epochs=20, batch_size=32)"
      ],
      "execution_count": 0,
      "outputs": [
        {
          "output_type": "stream",
          "text": [
            "Train on 1065 samples\n",
            "Epoch 1/20\n",
            "1065/1065 [==============================] - 6s 6ms/sample - loss: 0.0355\n",
            "Epoch 2/20\n",
            "1065/1065 [==============================] - 3s 3ms/sample - loss: 0.0074\n",
            "Epoch 3/20\n",
            "1065/1065 [==============================] - 3s 3ms/sample - loss: 0.0057\n",
            "Epoch 4/20\n",
            "1065/1065 [==============================] - 3s 3ms/sample - loss: 0.0061\n",
            "Epoch 5/20\n",
            "1065/1065 [==============================] - 3s 3ms/sample - loss: 0.0052\n",
            "Epoch 6/20\n",
            "1065/1065 [==============================] - 3s 3ms/sample - loss: 0.0050\n",
            "Epoch 7/20\n",
            "1065/1065 [==============================] - 3s 3ms/sample - loss: 0.0039\n",
            "Epoch 8/20\n",
            "1065/1065 [==============================] - 3s 3ms/sample - loss: 0.0042\n",
            "Epoch 9/20\n",
            "1065/1065 [==============================] - 3s 3ms/sample - loss: 0.0039\n",
            "Epoch 10/20\n",
            "1065/1065 [==============================] - 3s 3ms/sample - loss: 0.0035\n",
            "Epoch 11/20\n",
            "1065/1065 [==============================] - 3s 3ms/sample - loss: 0.0032\n",
            "Epoch 12/20\n",
            "1065/1065 [==============================] - 3s 3ms/sample - loss: 0.0031\n",
            "Epoch 13/20\n",
            "1065/1065 [==============================] - 3s 3ms/sample - loss: 0.0034\n",
            "Epoch 14/20\n",
            "1065/1065 [==============================] - 3s 3ms/sample - loss: 0.0031\n",
            "Epoch 15/20\n",
            "1065/1065 [==============================] - 3s 3ms/sample - loss: 0.0025\n",
            "Epoch 16/20\n",
            "1065/1065 [==============================] - 3s 3ms/sample - loss: 0.0032\n",
            "Epoch 17/20\n",
            "1065/1065 [==============================] - 3s 3ms/sample - loss: 0.0032\n",
            "Epoch 18/20\n",
            "1065/1065 [==============================] - 3s 3ms/sample - loss: 0.0029\n",
            "Epoch 19/20\n",
            "1065/1065 [==============================] - 3s 3ms/sample - loss: 0.0027\n",
            "Epoch 20/20\n",
            "1065/1065 [==============================] - 3s 3ms/sample - loss: 0.0025\n"
          ],
          "name": "stdout"
        },
        {
          "output_type": "execute_result",
          "data": {
            "text/plain": [
              "<tensorflow.python.keras.callbacks.History at 0x7f1e10391630>"
            ]
          },
          "metadata": {
            "tags": []
          },
          "execution_count": 18
        }
      ]
    },
    {
      "cell_type": "code",
      "metadata": {
        "id": "rUPQtU1uCd-Q",
        "colab_type": "code",
        "colab": {}
      },
      "source": [
        "past_30_days = data_training.tail(60)"
      ],
      "execution_count": 0,
      "outputs": []
    },
    {
      "cell_type": "code",
      "metadata": {
        "id": "1ADm_D3fC7M5",
        "colab_type": "code",
        "outputId": "379eb21b-f2b3-4ea1-e2c9-491929bd03bf",
        "colab": {
          "base_uri": "https://localhost:8080/",
          "height": 204
        }
      },
      "source": [
        "df = past_30_days.append(data_testing, ignore_index=True)\n",
        "df = df.drop(['Date'], axis=1)\n",
        "df.head()"
      ],
      "execution_count": 0,
      "outputs": [
        {
          "output_type": "execute_result",
          "data": {
            "text/html": [
              "<div>\n",
              "<style scoped>\n",
              "    .dataframe tbody tr th:only-of-type {\n",
              "        vertical-align: middle;\n",
              "    }\n",
              "\n",
              "    .dataframe tbody tr th {\n",
              "        vertical-align: top;\n",
              "    }\n",
              "\n",
              "    .dataframe thead th {\n",
              "        text-align: right;\n",
              "    }\n",
              "</style>\n",
              "<table border=\"1\" class=\"dataframe\">\n",
              "  <thead>\n",
              "    <tr style=\"text-align: right;\">\n",
              "      <th></th>\n",
              "      <th>Close</th>\n",
              "    </tr>\n",
              "  </thead>\n",
              "  <tbody>\n",
              "    <tr>\n",
              "      <th>0</th>\n",
              "      <td>9324.717773</td>\n",
              "    </tr>\n",
              "    <tr>\n",
              "      <th>1</th>\n",
              "      <td>9235.354492</td>\n",
              "    </tr>\n",
              "    <tr>\n",
              "      <th>2</th>\n",
              "      <td>9412.612305</td>\n",
              "    </tr>\n",
              "    <tr>\n",
              "      <th>3</th>\n",
              "      <td>9342.527344</td>\n",
              "    </tr>\n",
              "    <tr>\n",
              "      <th>4</th>\n",
              "      <td>9360.879883</td>\n",
              "    </tr>\n",
              "  </tbody>\n",
              "</table>\n",
              "</div>"
            ],
            "text/plain": [
              "         Close\n",
              "0  9324.717773\n",
              "1  9235.354492\n",
              "2  9412.612305\n",
              "3  9342.527344\n",
              "4  9360.879883"
            ]
          },
          "metadata": {
            "tags": []
          },
          "execution_count": 20
        }
      ]
    },
    {
      "cell_type": "code",
      "metadata": {
        "id": "OChoH61sDZIt",
        "colab_type": "code",
        "outputId": "d2b3e89d-523b-436b-c346-ee19ed0943e1",
        "colab": {
          "base_uri": "https://localhost:8080/",
          "height": 1000
        }
      },
      "source": [
        "inputs = scaler.transform(df)\n",
        "inputs"
      ],
      "execution_count": 0,
      "outputs": [
        {
          "output_type": "execute_result",
          "data": {
            "text/plain": [
              "array([[0.45657711],\n",
              "       [0.45180334],\n",
              "       [0.46127242],\n",
              "       [0.4575285 ],\n",
              "       [0.45850889],\n",
              "       [0.45352384],\n",
              "       [0.42880752],\n",
              "       [0.42927233],\n",
              "       [0.44219696],\n",
              "       [0.42629183],\n",
              "       [0.42938345],\n",
              "       [0.42898818],\n",
              "       [0.42363722],\n",
              "       [0.41209306],\n",
              "       [0.41523247],\n",
              "       [0.41668628],\n",
              "       [0.40233294],\n",
              "       [0.39682318],\n",
              "       [0.38726758],\n",
              "       [0.3667267 ],\n",
              "       [0.34823423],\n",
              "       [0.35364134],\n",
              "       [0.33495082],\n",
              "       [0.34019755],\n",
              "       [0.34405645],\n",
              "       [0.36079248],\n",
              "       [0.35713014],\n",
              "       [0.37305661],\n",
              "       [0.36282063],\n",
              "       [0.35505674],\n",
              "       [0.34959166],\n",
              "       [0.34949322],\n",
              "       [0.34585475],\n",
              "       [0.35633962],\n",
              "       [0.36161157],\n",
              "       [0.36210523],\n",
              "       [0.36253833],\n",
              "       [0.35380708],\n",
              "       [0.34724821],\n",
              "       [0.34400603],\n",
              "       [0.3453793 ],\n",
              "       [0.34679761],\n",
              "       [0.33905116],\n",
              "       [0.34052704],\n",
              "       [0.32878423],\n",
              "       [0.31318749],\n",
              "       [0.34717786],\n",
              "       [0.34322701],\n",
              "       [0.34408024],\n",
              "       [0.34260277],\n",
              "       [0.35972009],\n",
              "       [0.35138871],\n",
              "       [0.34962072],\n",
              "       [0.34708988],\n",
              "       [0.34515667],\n",
              "       [0.34788758],\n",
              "       [0.34937809],\n",
              "       [0.35496915],\n",
              "       [0.34804285],\n",
              "       [0.34273314],\n",
              "       [0.34308438],\n",
              "       [0.33161493],\n",
              "       [0.35081476],\n",
              "       [0.35432832],\n",
              "       [0.35436361],\n",
              "       [0.37348266],\n",
              "       [0.39455535],\n",
              "       [0.39007718],\n",
              "       [0.37935094],\n",
              "       [0.39470822],\n",
              "       [0.38781618],\n",
              "       [0.39609393],\n",
              "       [0.39351376],\n",
              "       [0.43002997],\n",
              "       [0.4289213 ],\n",
              "       [0.42447545],\n",
              "       [0.43543998],\n",
              "       [0.43617559],\n",
              "       [0.42353842],\n",
              "       [0.42094208],\n",
              "       [0.42565648],\n",
              "       [0.4221832 ],\n",
              "       [0.40752692],\n",
              "       [0.40960596],\n",
              "       [0.40546128],\n",
              "       [0.41769348],\n",
              "       [0.43441331],\n",
              "       [0.45838655],\n",
              "       [0.45614506],\n",
              "       [0.46642107],\n",
              "       [0.45795596],\n",
              "       [0.46021806],\n",
              "       [0.45762668],\n",
              "       [0.45491061],\n",
              "       [0.44889775],\n",
              "       [0.47199974],\n",
              "       [0.47821663],\n",
              "       [0.4817499 ],\n",
              "       [0.48544526],\n",
              "       [0.49888327],\n",
              "       [0.48499077],\n",
              "       [0.50377452],\n",
              "       [0.51006835],\n",
              "       [0.50410271],\n",
              "       [0.50932376],\n",
              "       [0.48674366],\n",
              "       [0.48914802],\n",
              "       [0.47609804],\n",
              "       [0.50023598],\n",
              "       [0.47306615],\n",
              "       [0.47173541],\n",
              "       [0.47590033],\n",
              "       [0.47465779],\n",
              "       [0.48861821],\n",
              "       [0.47396297],\n",
              "       [0.45748457],\n",
              "       [0.42964309],\n",
              "       [0.42771846],\n",
              "       [0.42173336],\n",
              "       [0.41783658],\n",
              "       [0.41585713],\n",
              "       [0.43226854],\n",
              "       [0.42789432],\n",
              "       [0.42615604],\n",
              "       [0.44343824],\n",
              "       [0.44577713],\n",
              "       [0.43442051],\n",
              "       [0.39158648],\n",
              "       [0.38173203],\n",
              "       [0.38098869],\n",
              "       [0.38107954],\n",
              "       [0.22399097],\n",
              "       [0.25566459],\n",
              "       [0.23625499],\n",
              "       [0.24650886],\n",
              "       [0.22632498],\n",
              "       [0.23760455],\n",
              "       [0.23828881],\n",
              "       [0.28918477],\n",
              "       [0.30893485]])"
            ]
          },
          "metadata": {
            "tags": []
          },
          "execution_count": 21
        }
      ]
    },
    {
      "cell_type": "code",
      "metadata": {
        "id": "V2JZoFglDl6s",
        "colab_type": "code",
        "colab": {}
      },
      "source": [
        "X_test = []\n",
        "Y_test = []"
      ],
      "execution_count": 0,
      "outputs": []
    },
    {
      "cell_type": "code",
      "metadata": {
        "id": "HyrR4nRyDqJD",
        "colab_type": "code",
        "outputId": "214db123-33b9-4990-a3e7-c1d9f6d664c6",
        "colab": {
          "base_uri": "https://localhost:8080/",
          "height": 34
        }
      },
      "source": [
        "for i in range(30, inputs.shape[0]):\n",
        "  X_test.append(inputs[i-30:i])\n",
        "  Y_test.append(inputs[i, 0])\n",
        "\n",
        "X_test, Y_test = np.array(X_test), np.array(Y_test)\n",
        "X_test.shape, Y_test.shape"
      ],
      "execution_count": 0,
      "outputs": [
        {
          "output_type": "execute_result",
          "data": {
            "text/plain": [
              "((110, 30, 1), (110,))"
            ]
          },
          "metadata": {
            "tags": []
          },
          "execution_count": 23
        }
      ]
    },
    {
      "cell_type": "code",
      "metadata": {
        "id": "RQ4y3ClNF4m7",
        "colab_type": "code",
        "colab": {}
      },
      "source": [
        "Y_pred = regressior.predict(X_test)"
      ],
      "execution_count": 0,
      "outputs": []
    },
    {
      "cell_type": "code",
      "metadata": {
        "id": "anWag17iGOQm",
        "colab_type": "code",
        "outputId": "34c21ea6-5353-49b1-c6e3-2c6945c58c9d",
        "colab": {
          "base_uri": "https://localhost:8080/",
          "height": 34
        }
      },
      "source": [
        "scaler.scale_"
      ],
      "execution_count": 0,
      "outputs": [
        {
          "output_type": "execute_result",
          "data": {
            "text/plain": [
              "array([5.34198211e-05])"
            ]
          },
          "metadata": {
            "tags": []
          },
          "execution_count": 25
        }
      ]
    },
    {
      "cell_type": "code",
      "metadata": {
        "id": "dEJ40qvtGVIG",
        "colab_type": "code",
        "outputId": "b124cd45-d67e-4694-dfff-45d3370ebc5f",
        "colab": {
          "base_uri": "https://localhost:8080/",
          "height": 34
        }
      },
      "source": [
        "scale = 1/5.34198211e-05\n",
        "scale"
      ],
      "execution_count": 0,
      "outputs": [
        {
          "output_type": "execute_result",
          "data": {
            "text/plain": [
              "18719.643372223873"
            ]
          },
          "metadata": {
            "tags": []
          },
          "execution_count": 26
        }
      ]
    },
    {
      "cell_type": "code",
      "metadata": {
        "id": "-zIswKbpGnE2",
        "colab_type": "code",
        "colab": {}
      },
      "source": [
        "Y_pred = Y_pred*scale\n",
        "Y_test = Y_test*scale"
      ],
      "execution_count": 0,
      "outputs": []
    },
    {
      "cell_type": "code",
      "metadata": {
        "id": "PYwEEi4qG11u",
        "colab_type": "code",
        "outputId": "b83790c8-1947-47bc-826c-85518dedf010",
        "colab": {
          "base_uri": "https://localhost:8080/",
          "height": 1000
        }
      },
      "source": [
        "Y_pred"
      ],
      "execution_count": 0,
      "outputs": [
        {
          "output_type": "execute_result",
          "data": {
            "text/plain": [
              "array([[6339.6934],\n",
              "       [6414.391 ],\n",
              "       [6485.3765],\n",
              "       [6539.161 ],\n",
              "       [6572.622 ],\n",
              "       [6592.579 ],\n",
              "       [6607.7065],\n",
              "       [6621.6387],\n",
              "       [6630.907 ],\n",
              "       [6628.9272],\n",
              "       [6611.751 ],\n",
              "       [6578.6323],\n",
              "       [6534.8027],\n",
              "       [6483.5483],\n",
              "       [6428.6304],\n",
              "       [6368.8174],\n",
              "       [6296.9834],\n",
              "       [6229.807 ],\n",
              "       [6178.6416],\n",
              "       [6151.365 ],\n",
              "       [6148.5146],\n",
              "       [6175.0366],\n",
              "       [6225.442 ],\n",
              "       [6290.0947],\n",
              "       [6356.4043],\n",
              "       [6413.546 ],\n",
              "       [6456.4775],\n",
              "       [6484.3726],\n",
              "       [6501.24  ],\n",
              "       [6508.17  ],\n",
              "       [6502.435 ],\n",
              "       [6484.42  ],\n",
              "       [6450.7236],\n",
              "       [6412.278 ],\n",
              "       [6381.251 ],\n",
              "       [6365.6104],\n",
              "       [6378.699 ],\n",
              "       [6436.8   ],\n",
              "       [6540.473 ],\n",
              "       [6672.1836],\n",
              "       [6818.539 ],\n",
              "       [6961.682 ],\n",
              "       [7091.106 ],\n",
              "       [7195.6064],\n",
              "       [7293.285 ],\n",
              "       [7395.961 ],\n",
              "       [7502.1704],\n",
              "       [7610.1704],\n",
              "       [7717.035 ],\n",
              "       [7807.578 ],\n",
              "       [7868.145 ],\n",
              "       [7895.9526],\n",
              "       [7892.338 ],\n",
              "       [7854.085 ],\n",
              "       [7786.4795],\n",
              "       [7698.2407],\n",
              "       [7607.218 ],\n",
              "       [7538.4478],\n",
              "       [7522.419 ],\n",
              "       [7568.668 ],\n",
              "       [7677.325 ],\n",
              "       [7828.684 ],\n",
              "       [7997.385 ],\n",
              "       [8158.1772],\n",
              "       [8291.01  ],\n",
              "       [8379.088 ],\n",
              "       [8431.6875],\n",
              "       [8466.137 ],\n",
              "       [8496.217 ],\n",
              "       [8530.34  ],\n",
              "       [8579.732 ],\n",
              "       [8639.14  ],\n",
              "       [8709.491 ],\n",
              "       [8792.756 ],\n",
              "       [8881.092 ],\n",
              "       [8968.5   ],\n",
              "       [9030.763 ],\n",
              "       [9055.353 ],\n",
              "       [9033.32  ],\n",
              "       [8984.586 ],\n",
              "       [8909.122 ],\n",
              "       [8812.568 ],\n",
              "       [8705.362 ],\n",
              "       [8600.605 ],\n",
              "       [8519.684 ],\n",
              "       [8465.417 ],\n",
              "       [8424.486 ],\n",
              "       [8369.063 ],\n",
              "       [8284.412 ],\n",
              "       [8168.484 ],\n",
              "       [8028.624 ],\n",
              "       [7876.516 ],\n",
              "       [7736.7476],\n",
              "       [7627.8525],\n",
              "       [7557.2827],\n",
              "       [7536.158 ],\n",
              "       [7567.2173],\n",
              "       [7635.26  ],\n",
              "       [7693.826 ],\n",
              "       [7707.153 ],\n",
              "       [7660.594 ],\n",
              "       [7561.299 ],\n",
              "       [7353.5137],\n",
              "       [7045.7524],\n",
              "       [6668.5176],\n",
              "       [6259.7935],\n",
              "       [5848.6797],\n",
              "       [5453.7305],\n",
              "       [5093.5024],\n",
              "       [4792.2505]], dtype=float32)"
            ]
          },
          "metadata": {
            "tags": []
          },
          "execution_count": 28
        }
      ]
    },
    {
      "cell_type": "code",
      "metadata": {
        "id": "E3qf7HhvHMGg",
        "colab_type": "code",
        "outputId": "9c44821b-6efe-4607-efdc-e6a152eb5eb6",
        "colab": {
          "base_uri": "https://localhost:8080/",
          "height": 404
        }
      },
      "source": [
        "plt.figure(figsize=(18, 6))\n",
        "plt.plot(Y_test, color='red', label='Real Bitcoin Closing Price')\n",
        "plt.plot(Y_pred, color='blue', label='Predicted Bitcoin Closing Price')\n",
        "plt.title('Bitcoin Closing Price Prediction')\n",
        "plt.xlabel('Time')\n",
        "plt.ylabel('Bitcoin Closing Price')\n",
        "plt.legend()\n",
        "plt.show()"
      ],
      "execution_count": 0,
      "outputs": [
        {
          "output_type": "display_data",
          "data": {
            "image/png": "[encoded data removed]",
            "text/plain": [
              "<Figure size 1296x432 with 1 Axes>"
            ]
          },
          "metadata": {
            "tags": []
          }
        }
      ]
    }
  ]
}